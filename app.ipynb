{
 "cells": [
  {
   "cell_type": "code",
   "execution_count": 1,
   "id": "c0fbe3e3",
   "metadata": {},
   "outputs": [
    {
     "name": "stderr",
     "output_type": "stream",
     "text": [
      "[NbConvertApp] Converting notebook app.ipynb to script\n",
      "[NbConvertApp] Writing 3024 bytes to app.py\n"
     ]
    }
   ],
   "source": [
    "!jupyter nbconvert app.ipynb --to script"
   ]
  },
  {
   "cell_type": "code",
   "execution_count": 3,
   "id": "ae2467f6",
   "metadata": {},
   "outputs": [
    {
     "ename": "SystemExit",
     "evalue": "",
     "output_type": "error",
     "traceback": [
      "An exception has occurred, use %tb to see the full traceback.\n",
      "\u001b[1;31mSystemExit\u001b[0m\n"
     ]
    }
   ],
   "source": [
    "import pygame,sys\n",
    "from pygame.locals import *\n",
    "import numpy as np\n",
    "from keras.models import load_model\n",
    "import cv2\n",
    "\n",
    "#initialize or pygame\n",
    "pygame.init()\n",
    "\n",
    "WINDOWSIZEX= 640\n",
    "WINDOWSIZEY= 480\n",
    "\n",
    "\n",
    "BOUNDARYINC = 5\n",
    "WHITE = (255, 255, 255)\n",
    "BLACK = (0,0,0)\n",
    "RED = (255,0,0)\n",
    "\n",
    "IMAGESAVE = False\n",
    "\n",
    "MODEL = load_model(\"bestmodel.h5\")\n",
    "\n",
    "LABELS = {0:\"Zero\", 1:\"One\", \n",
    "          2:\"Two\", 3:\"Three\",\n",
    "          4:\"Four\", 5:\"Five\", \n",
    "          6:\"Six\", 7:\"Seven\", \n",
    "          8:\"Eight\", 9:\"Nine\"}\n",
    "\n",
    "pygame.font.init()\n",
    "FONT = pygame.font.SysFont('Raleway Bold', 18)\n",
    "#myfont = pygame.font.SysFont('Raleway Bold', 72)\n",
    "DISPLAYSURF = pygame.display.set_mode((WINDOWSIZEX, WINDOWSIZEY))\n",
    "\n",
    "\n",
    "pygame.display.set_caption(\"Digit Board\")\n",
    "\n",
    "iswriting = False\n",
    "\n",
    "number_xcord = []\n",
    "number_ycord = []\n",
    "img_cnt = 1\n",
    "PREDICT =True\n",
    "\n",
    "while True:\n",
    "    \n",
    "    for event in pygame.event.get():\n",
    "        if event.type == QUIT:\n",
    "            pygame.quit()\n",
    "            sys.exit()\n",
    "            \n",
    "        if event.type == MOUSEMOTION and iswriting:\n",
    "            xcord, ycord = event.pos\n",
    "            pygame.draw.circle(DISPLAYSURF, WHITE, (xcord, ycord), 4,0)\n",
    "            \n",
    "            number_xcord.append(xcord)\n",
    "            number_ycord.append(ycord)\n",
    "            \n",
    "        if event.type == MOUSEBUTTONDOWN:\n",
    "            iswriting = True\n",
    "            \n",
    "        if event.type == MOUSEBUTTONUP:\n",
    "            iswriting = False\n",
    "            number_xcord = sorted(number_xcord)\n",
    "            number_ycord = sorted(number_ycord)\n",
    "            \n",
    "            rect_min_x , rect_max_x = max(number_xcord[0]- BOUNDARYINC, 0), min(WINDOWSIZEX, number_xcord[-1]+BOUNDARYINC)\n",
    "            rect_min_y , rect_max_y = max(number_ycord[0]- BOUNDARYINC, 0), min(number_ycord[-1]+BOUNDARYINC, WINDOWSIZEX)\n",
    "            \n",
    "            number_xcord = []\n",
    "            number_ycord = []\n",
    "            \n",
    "            img_arr = np.array(pygame.PixelArray(DISPLAYSURF))[rect_min_x:rect_max_x, rect_min_y:rect_max_y].T.astype(np.float32)\n",
    "            \n",
    "            if IMAGESAVE:\n",
    "                cv2.imwrite(\"image.png\")\n",
    "                imag_cnt +=1\n",
    "             \n",
    "            if PREDICT:\n",
    "                image = cv2.resize(img_arr, (28,28))\n",
    "                image = np.pad(image, (10,10), 'constant', constant_values = 0)\n",
    "                image = cv2.resize(image ,(28,28))/255\n",
    "                \n",
    "                label = str(LABELS[np.argmax(MODEL.predict(image.reshape(1,28,28,1)))])\n",
    "                \n",
    "                textSurface = FONT.render(label , True, RED, WHITE)\n",
    "                textRecObj = textSurface.get_rect()\n",
    "                textRecObj.left , textRecObj.bottom = rect_min_x, rect_max_y \n",
    "                \n",
    "                DISPLAYSURF.blit(textSurface, textRecObj)\n",
    "                \n",
    "            if event.type == KEYDOWN:\n",
    "                if event.unicode == \"n\":\n",
    "                    DISPLAYSURF.fill(BLACK)\n",
    "                    \n",
    "    pygame.display.update()\n",
    "                    "
   ]
  },
  {
   "cell_type": "code",
   "execution_count": null,
   "id": "1f4f3d4f",
   "metadata": {},
   "outputs": [],
   "source": []
  },
  {
   "cell_type": "code",
   "execution_count": null,
   "id": "ed5837bf",
   "metadata": {},
   "outputs": [],
   "source": []
  },
  {
   "cell_type": "code",
   "execution_count": null,
   "id": "26ba7425",
   "metadata": {},
   "outputs": [],
   "source": []
  }
 ],
 "metadata": {
  "kernelspec": {
   "display_name": "Python 3 (ipykernel)",
   "language": "python",
   "name": "python3"
  },
  "language_info": {
   "codemirror_mode": {
    "name": "ipython",
    "version": 3
   },
   "file_extension": ".py",
   "mimetype": "text/x-python",
   "name": "python",
   "nbconvert_exporter": "python",
   "pygments_lexer": "ipython3",
   "version": "3.10.4"
  }
 },
 "nbformat": 4,
 "nbformat_minor": 5
}
